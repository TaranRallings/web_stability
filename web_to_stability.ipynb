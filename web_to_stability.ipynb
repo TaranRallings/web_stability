{
 "cells": [
  {
   "cell_type": "markdown",
   "metadata": {},
   "source": [
    "## Stability of Food Webs"
   ]
  },
  {
   "cell_type": "markdown",
   "metadata": {},
   "source": [
    "This notebook provides code for randomly generating food webs and analyzing their stability. \n",
    "\n",
    "Webs are built according to the mass-ratio model\n",
    "\n",
    "To Do:\n",
    "- should generate_species draw from a random dist? (build options for different distros)"
   ]
  },
  {
   "cell_type": "code",
   "execution_count": 10,
   "metadata": {},
   "outputs": [],
   "source": [
    "import numpy as np\n",
    "from scipy.linalg import eigvals,solve"
   ]
  },
  {
   "cell_type": "code",
   "execution_count": 2,
   "metadata": {},
   "outputs": [],
   "source": [
    "# model parameters.params fitted to East Africa (egypt paper)\n",
    "alpha_bm = 1.41\n",
    "beta_bm = 3.73\n",
    "gamma_bm = -1.87\n",
    "\n",
    "S = 30\n"
   ]
  },
  {
   "cell_type": "code",
   "execution_count": 3,
   "metadata": {},
   "outputs": [],
   "source": [
    "# building an interaction matrix by the mass ratio model\n",
    "\n",
    "def build_food_web(species_number, model, alpha, beta, gamma):\n",
    "    # takes the number of species desired, the model type, and three parameters as inputs\n",
    "    # it outputs a matrix (SxS np.array) of predator prey interactions\n",
    "    species_masses = generate_species(species_number) # calls a helper function to generate S species masses\n",
    "    pred_matrix = build_predation_matrix(species_masses, model)\n",
    "    return pred_matrix\n",
    "\n",
    "def generate_species(species_number):\n",
    "    # helper for build_food_web \n",
    "    # makes S random draws from a uniform distrubtion to use as masses\n",
    "    # output is Sx1 np.array\n",
    "    n = np.random.uniform(0, 1, species_number)\n",
    "    #n.sort()\n",
    "    return n\n",
    "\n",
    "def build_predation_matrix(species_masses, model):\n",
    "    # helper for build_food_web\n",
    "    # takes a Sx1 np.array of masses and an interaction model function\n",
    "    # constructions a predation matrix (SxS np.array) from S species and an interaction model\n",
    "    S = len(species_masses)\n",
    "    int_matrix = np.zeros((S,S)) # create an empty SxS array\n",
    "    for i in range(S): # loop through rows\n",
    "        for j in range(S): # loop through columns\n",
    "            # for each j in row i, process the masses with the interaction model\n",
    "            # put the probability of interaction in array position i,j\n",
    "            int_prob = model(species_masses[i], species_masses[j], alpha_bm, beta_bm, gamma_bm)\n",
    "            rand_draw = np.random.uniform(0,1)\n",
    "            if rand_draw < int_prob:\n",
    "                int_matrix[i,j] = 1\n",
    "                int_matrix[j,i] = -1\n",
    "    for k in range(S):\n",
    "        int_matrix[k,k] = -1\n",
    "    return int_matrix\n",
    "\n",
    "\n",
    "\n",
    "def mass_ratio_model(mass_i, mass_j, alpha, beta, gamma):\n",
    "    p = np.exp(alpha + beta * np.log(mass_i/mass_j) + gamma * np.log(mass_i/mass_j)**2)\n",
    "    prob_interaction = p / (1 + p)\n",
    "    return prob_interaction"
   ]
  },
  {
   "cell_type": "code",
   "execution_count": 4,
   "metadata": {},
   "outputs": [],
   "source": [
    "# generalized modelling jacobian and stability analysis\n",
    "\n",
    "def web_stability(interaction_matrix):\n",
    "    primary_producers, top_predators = producers_and_predators(interaction_matrix)\n",
    "    alpha, gamma, lambdas, mu, phi, psi, rho, sigma, chi, beta = make_random_model(interaction_matrix, \n",
    "                                                                                   primary_producers, top_predators)\n",
    "    jacobian = make_jacobian(interaction_matrix, alpha, gamma, lambdas, mu, phi, psi, rho, sigma, chi, beta)\n",
    "    stability = test_stability(jacobian)\n",
    "    return stability\n",
    "    \n",
    "\n",
    "def producers_and_predators(interaction_matrix):  \n",
    "    N = len(interaction_matrix)  #NUMBER OF SPECIES \n",
    "\n",
    "    #Provide Primary producer and top predator array\n",
    "    primary_producers = np.ones(N)\n",
    "    top_predators = np.ones(N)\n",
    "    for i in range(N):\n",
    "        if sum(interaction_matrix[i,:]) != interaction_matrix[i,i]:  top_predators[i] = 0\n",
    "        if sum(interaction_matrix[:,i]) != interaction_matrix[i,i]:  primary_producers[i] = 0      \n",
    "      \n",
    "    return primary_producers, top_predators \n",
    "\n",
    "def make_random_model(interaction_matrix, primary_producers, top_predators):     #SETTING UP A MODEL WITH RANDOM PARAMETERS!!\n",
    "    N = interaction_matrix.shape[0]\n",
    "    alpha = np.random.uniform(0.01, 1., size=N) #Alpha Uniform range\n",
    "    gamma = np.random.uniform(0.5, 1.5, size=N) #Gamma Uniform range\n",
    "    lambdas = np.ones((N,N))                    #Passive Prey switiching\n",
    "    mu = np.random.uniform(1., 2., size=N)     #EUniform mortality exponent\n",
    "    phi = np.random.uniform(0., 1., size=N)     #Uniform prim.prod exponent\n",
    "    psi = np.random.uniform(0.5, 1.5, size=N)   #Uniform predation exponent\n",
    "    rho = 1.- primary_producers.copy()         # 0 predation gain for primprod, 1 for others\n",
    "    \n",
    "    #predation loss is 0 for top predators, uniform else\n",
    "    sigma = (1.- top_predators.copy()) * np.random.uniform(0.25, 1., size=N)   \n",
    "      \n",
    "    chi = np.zeros((N,N))\n",
    "    beta = np.zeros((N,N))\n",
    "    for i_pred in range(N):             #Assign values to the nonzero feeding parameters. \n",
    "        for i_prey in range(N):         # Can also be done by directly using biomass flows.\n",
    "            if interaction_matrix[i_prey,i_pred] != 0:\n",
    "                chi[i_pred, i_prey] = np.random.uniform(0.1, 1.0)  #Note the inverse order of chi,beta and lima!!\n",
    "                beta[i_pred, i_prey] = np.random.uniform(0.1, 1.0)\n",
    "                \n",
    "    return alpha, gamma, lambdas, mu, phi, psi, rho, sigma, chi, beta\n",
    "           # _normalizeFlows()\n",
    "    \n",
    "def make_jacobian(interaction_matrix, alpha, gamma, lambdas, mu, phi, psi, rho, sigma, chi, beta ):\n",
    "    N = interaction_matrix.shape[0]\n",
    "    jacobian = np.zeros((N, N))\n",
    "    \n",
    "    for n in range(N):\n",
    "        for i in range(N):\n",
    "            if (i != n): # off diagonal\n",
    "                dsum = 0; # for calculating the sum in the loss by predation part for mutualistic effects\n",
    "                for m in range (N):\n",
    "                    dsum +=  beta[m][n] * lambdas[m][i] * (gamma[m] - 1.) * chi[m][i]\n",
    "                \n",
    "                    # gain by predation -  loss by predation\n",
    "                    jacobian[n][i] = alpha[n] * (rho[n] * gamma[n] * chi[n][i] * lambdas[n][i] \n",
    "                                                 - sigma[n] * (beta[i][n] * psi[i] + dsum) )\n",
    "        for i in range(N):# diagonals\n",
    "            dsum = 0;\n",
    "            for m in range(N):\n",
    "                dsum  += beta[m][i] * lambdas[m][i] * ( (gamma[m] - 1.) * chi[m][i]  + 1. );\n",
    "            \n",
    "               # primary production + gain by predation  - mortality- loss by predation\n",
    "                jacobian[i][i] = alpha[i]*( (1.-rho[i])*phi[i] + rho[i] \n",
    "                                             * (gamma[i] * chi[i][i]  * lambdas[i][i] \n",
    "                                             + psi[i] ) - (1.- sigma[i]) * mu[i] - sigma[i] \n",
    "                                             * ( beta[i][i] * psi[i] + dsum ) )                         \n",
    "\n",
    "    return jacobian\n",
    "\n",
    "def test_stability(jacobian):  \n",
    "    if max(eigvals(jacobian))<- 1e-6:  return True\n",
    "    return False\n",
    "\n",
    "def get_eigenvalues(jacobian):\n",
    "    return sorted(eigvals(jacobian))\n"
   ]
  },
  {
   "cell_type": "code",
   "execution_count": 5,
   "metadata": {},
   "outputs": [],
   "source": [
    "def percent_stable_webs(species_number, alpha, beta, gamma, iterations):\n",
    "    stability_list = []\n",
    "    for i in range(iterations):\n",
    "        m = build_food_web(S, mass_ratio_model, alpha, beta, gamma)\n",
    "        s = web_stability\n",
    "        stability_list.append(s)\n",
    "    number_stable = stability_list.count(True)\n",
    "    percent_stable = number_stable / iterations\n",
    "    return percent_stable "
   ]
  },
  {
   "cell_type": "code",
   "execution_count": 16,
   "metadata": {},
   "outputs": [],
   "source": [
    "m = build_food_web(S, mass_ratio_model, alpha_bm, beta_bm, gamma_bm)"
   ]
  },
  {
   "cell_type": "code",
   "execution_count": 7,
   "metadata": {},
   "outputs": [
    {
     "data": {
      "text/plain": [
       "True"
      ]
     },
     "execution_count": 7,
     "metadata": {},
     "output_type": "execute_result"
    }
   ],
   "source": [
    "web_stability(m)"
   ]
  },
  {
   "cell_type": "code",
   "execution_count": 8,
   "metadata": {},
   "outputs": [],
   "source": [
    "psw = percent_stable_webs(S, alpha_bm, beta_bm, gamma_bm, 1000)"
   ]
  },
  {
   "cell_type": "code",
   "execution_count": 9,
   "metadata": {},
   "outputs": [
    {
     "data": {
      "text/plain": [
       "0.0"
      ]
     },
     "execution_count": 9,
     "metadata": {},
     "output_type": "execute_result"
    }
   ],
   "source": [
    "psw"
   ]
  },
  {
   "cell_type": "code",
   "execution_count": 26,
   "metadata": {},
   "outputs": [
    {
     "data": {
      "text/plain": [
       "numpy.ndarray"
      ]
     },
     "execution_count": 26,
     "metadata": {},
     "output_type": "execute_result"
    }
   ],
   "source": [
    "type(m)"
   ]
  },
  {
   "cell_type": "code",
   "execution_count": 27,
   "metadata": {},
   "outputs": [
    {
     "data": {
      "text/plain": [
       "(200,)"
      ]
     },
     "execution_count": 27,
     "metadata": {},
     "output_type": "execute_result"
    }
   ],
   "source": [
    "m.shape"
   ]
  },
  {
   "cell_type": "code",
   "execution_count": 25,
   "metadata": {},
   "outputs": [],
   "source": [
    "m = generate_species(200)"
   ]
  },
  {
   "cell_type": "code",
   "execution_count": null,
   "metadata": {},
   "outputs": [],
   "source": []
  }
 ],
 "metadata": {
  "kernelspec": {
   "display_name": "Python 3",
   "language": "python",
   "name": "python3"
  },
  "language_info": {
   "codemirror_mode": {
    "name": "ipython",
    "version": 3
   },
   "file_extension": ".py",
   "mimetype": "text/x-python",
   "name": "python",
   "nbconvert_exporter": "python",
   "pygments_lexer": "ipython3",
   "version": "3.5.2"
  }
 },
 "nbformat": 4,
 "nbformat_minor": 2
}
